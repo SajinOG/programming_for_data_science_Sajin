{
 "cells": [
  {
   "cell_type": "markdown",
   "metadata": {
    "deletable": false
   },
   "source": [
    "# UFCFVQ-15-M Programming for Data Science (Autumn 2023)"
   ]
  },
  {
   "cell_type": "markdown",
   "metadata": {},
   "source": [
    "## Student Id: "
   ]
  },
  {
   "cell_type": "markdown",
   "metadata": {},
   "source": [
    "# Programming Task 2"
   ]
  },
  {
   "cell_type": "markdown",
   "metadata": {
    "deletable": false
   },
   "source": [
    "### Requirement FR6 - Read CSV data from two files and merge it into a single Data Frame "
   ]
  },
  {
   "cell_type": "code",
   "execution_count": 1,
   "metadata": {},
   "outputs": [],
   "source": [
    "import pandas as pd\n",
    "import matplotlib.pylab as plt\n",
    "import seaborn as sns\n",
    "from scipy.stats import f_oneway\n",
    "plt.style.use('ggplot')"
   ]
  },
  {
   "cell_type": "code",
   "execution_count": 2,
   "metadata": {
    "deletable": false
   },
   "outputs": [
    {
     "data": {
      "text/html": [
       "<div>\n",
       "<style scoped>\n",
       "    .dataframe tbody tr th:only-of-type {\n",
       "        vertical-align: middle;\n",
       "    }\n",
       "\n",
       "    .dataframe tbody tr th {\n",
       "        vertical-align: top;\n",
       "    }\n",
       "\n",
       "    .dataframe thead th {\n",
       "        text-align: right;\n",
       "    }\n",
       "</style>\n",
       "<table border=\"1\" class=\"dataframe\">\n",
       "  <thead>\n",
       "    <tr style=\"text-align: right;\">\n",
       "      <th></th>\n",
       "      <th>Entity</th>\n",
       "      <th>Year</th>\n",
       "      <th>Schizophrenia (%)</th>\n",
       "      <th>Bipolar disorder (%)</th>\n",
       "      <th>Eating disorders (%)</th>\n",
       "      <th>Anxiety disorders (%)</th>\n",
       "      <th>Depression (%)</th>\n",
       "      <th>Drug use disorders (%)</th>\n",
       "      <th>Alcohol use disorders (%)</th>\n",
       "    </tr>\n",
       "  </thead>\n",
       "  <tbody>\n",
       "    <tr>\n",
       "      <th>0</th>\n",
       "      <td>Afghanistan</td>\n",
       "      <td>1990</td>\n",
       "      <td>0.16056</td>\n",
       "      <td>0.697779</td>\n",
       "      <td>0.101855</td>\n",
       "      <td>4.82883</td>\n",
       "      <td>4.071831</td>\n",
       "      <td>1.677082</td>\n",
       "      <td>0.672404</td>\n",
       "    </tr>\n",
       "    <tr>\n",
       "      <th>1</th>\n",
       "      <td>Afghanistan</td>\n",
       "      <td>1991</td>\n",
       "      <td>0.160312</td>\n",
       "      <td>0.697961</td>\n",
       "      <td>0.099313</td>\n",
       "      <td>4.82974</td>\n",
       "      <td>4.079531</td>\n",
       "      <td>1.684746</td>\n",
       "      <td>0.671768</td>\n",
       "    </tr>\n",
       "    <tr>\n",
       "      <th>2</th>\n",
       "      <td>Afghanistan</td>\n",
       "      <td>1992</td>\n",
       "      <td>0.160135</td>\n",
       "      <td>0.698107</td>\n",
       "      <td>0.096692</td>\n",
       "      <td>4.831108</td>\n",
       "      <td>4.088358</td>\n",
       "      <td>1.694334</td>\n",
       "      <td>0.670644</td>\n",
       "    </tr>\n",
       "    <tr>\n",
       "      <th>3</th>\n",
       "      <td>Afghanistan</td>\n",
       "      <td>1993</td>\n",
       "      <td>0.160037</td>\n",
       "      <td>0.698257</td>\n",
       "      <td>0.094336</td>\n",
       "      <td>4.830864</td>\n",
       "      <td>4.09619</td>\n",
       "      <td>1.70532</td>\n",
       "      <td>0.669738</td>\n",
       "    </tr>\n",
       "    <tr>\n",
       "      <th>4</th>\n",
       "      <td>Afghanistan</td>\n",
       "      <td>1994</td>\n",
       "      <td>0.160022</td>\n",
       "      <td>0.698469</td>\n",
       "      <td>0.092439</td>\n",
       "      <td>4.829423</td>\n",
       "      <td>4.099582</td>\n",
       "      <td>1.716069</td>\n",
       "      <td>0.66926</td>\n",
       "    </tr>\n",
       "    <tr>\n",
       "      <th>...</th>\n",
       "      <td>...</td>\n",
       "      <td>...</td>\n",
       "      <td>...</td>\n",
       "      <td>...</td>\n",
       "      <td>...</td>\n",
       "      <td>...</td>\n",
       "      <td>...</td>\n",
       "      <td>...</td>\n",
       "      <td>...</td>\n",
       "    </tr>\n",
       "    <tr>\n",
       "      <th>6463</th>\n",
       "      <td>Zimbabwe</td>\n",
       "      <td>2013</td>\n",
       "      <td>0.15567</td>\n",
       "      <td>0.607993</td>\n",
       "      <td>0.117248</td>\n",
       "      <td>3.090168</td>\n",
       "      <td>3.128192</td>\n",
       "      <td>0.76628</td>\n",
       "      <td>1.515641</td>\n",
       "    </tr>\n",
       "    <tr>\n",
       "      <th>6464</th>\n",
       "      <td>Zimbabwe</td>\n",
       "      <td>2014</td>\n",
       "      <td>0.155993</td>\n",
       "      <td>0.60861</td>\n",
       "      <td>0.118073</td>\n",
       "      <td>3.093964</td>\n",
       "      <td>3.14029</td>\n",
       "      <td>0.768914</td>\n",
       "      <td>1.51547</td>\n",
       "    </tr>\n",
       "    <tr>\n",
       "      <th>6465</th>\n",
       "      <td>Zimbabwe</td>\n",
       "      <td>2015</td>\n",
       "      <td>0.156465</td>\n",
       "      <td>0.609363</td>\n",
       "      <td>0.11947</td>\n",
       "      <td>3.098687</td>\n",
       "      <td>3.15571</td>\n",
       "      <td>0.771802</td>\n",
       "      <td>1.514751</td>\n",
       "    </tr>\n",
       "    <tr>\n",
       "      <th>6466</th>\n",
       "      <td>Zimbabwe</td>\n",
       "      <td>2016</td>\n",
       "      <td>0.157111</td>\n",
       "      <td>0.610234</td>\n",
       "      <td>0.121456</td>\n",
       "      <td>3.104294</td>\n",
       "      <td>3.174134</td>\n",
       "      <td>0.772275</td>\n",
       "      <td>1.513269</td>\n",
       "    </tr>\n",
       "    <tr>\n",
       "      <th>6467</th>\n",
       "      <td>Zimbabwe</td>\n",
       "      <td>2017</td>\n",
       "      <td>0.157963</td>\n",
       "      <td>0.611242</td>\n",
       "      <td>0.124443</td>\n",
       "      <td>3.110926</td>\n",
       "      <td>3.192789</td>\n",
       "      <td>0.772648</td>\n",
       "      <td>1.510943</td>\n",
       "    </tr>\n",
       "  </tbody>\n",
       "</table>\n",
       "<p>6468 rows × 9 columns</p>\n",
       "</div>"
      ],
      "text/plain": [
       "           Entity  Year Schizophrenia (%) Bipolar disorder (%)  \\\n",
       "0     Afghanistan  1990           0.16056             0.697779   \n",
       "1     Afghanistan  1991          0.160312             0.697961   \n",
       "2     Afghanistan  1992          0.160135             0.698107   \n",
       "3     Afghanistan  1993          0.160037             0.698257   \n",
       "4     Afghanistan  1994          0.160022             0.698469   \n",
       "...           ...   ...               ...                  ...   \n",
       "6463     Zimbabwe  2013           0.15567             0.607993   \n",
       "6464     Zimbabwe  2014          0.155993              0.60861   \n",
       "6465     Zimbabwe  2015          0.156465             0.609363   \n",
       "6466     Zimbabwe  2016          0.157111             0.610234   \n",
       "6467     Zimbabwe  2017          0.157963             0.611242   \n",
       "\n",
       "     Eating disorders (%) Anxiety disorders (%) Depression (%)  \\\n",
       "0                0.101855               4.82883       4.071831   \n",
       "1                0.099313               4.82974       4.079531   \n",
       "2                0.096692              4.831108       4.088358   \n",
       "3                0.094336              4.830864        4.09619   \n",
       "4                0.092439              4.829423       4.099582   \n",
       "...                   ...                   ...            ...   \n",
       "6463             0.117248              3.090168       3.128192   \n",
       "6464             0.118073              3.093964        3.14029   \n",
       "6465              0.11947              3.098687        3.15571   \n",
       "6466             0.121456              3.104294       3.174134   \n",
       "6467             0.124443              3.110926       3.192789   \n",
       "\n",
       "     Drug use disorders (%) Alcohol use disorders (%)  \n",
       "0                  1.677082                  0.672404  \n",
       "1                  1.684746                  0.671768  \n",
       "2                  1.694334                  0.670644  \n",
       "3                   1.70532                  0.669738  \n",
       "4                  1.716069                   0.66926  \n",
       "...                     ...                       ...  \n",
       "6463                0.76628                  1.515641  \n",
       "6464               0.768914                   1.51547  \n",
       "6465               0.771802                  1.514751  \n",
       "6466               0.772275                  1.513269  \n",
       "6467               0.772648                  1.510943  \n",
       "\n",
       "[6468 rows x 9 columns]"
      ]
     },
     "execution_count": 2,
     "metadata": {},
     "output_type": "execute_result"
    }
   ],
   "source": [
    "# Read the CSV files into DataFrames\n",
    "df1 = pd.read_csv('task2a.csv')\n",
    "df2 = pd.read_csv('task2b.csv')\n",
    "\n",
    "# Ensure that the indices match up\n",
    "assert df1.shape[0] == df2.shape[0]\n",
    "# Ensure that duplicate fields matchup\n",
    "assert df1[['Entity', 'Year']].equals(df2[['Entity', 'Year']])\n",
    "\n",
    "# # Concatenate the DataFrames\n",
    "df = pd.concat([df1, df2], axis=1)\n",
    "\n",
    "df3 = df.T.drop_duplicates().T\n",
    "\n",
    "df3"
   ]
  },
  {
   "cell_type": "markdown",
   "metadata": {
    "deletable": false
   },
   "source": [
    "### Requirement FR7 - Explore the dataset to identify an \"interesting\" pattern or trend"
   ]
  },
  {
   "cell_type": "code",
   "execution_count": null,
   "metadata": {
    "deletable": false
   },
   "outputs": [],
   "source": [
    "# replace with your code"
   ]
  },
  {
   "cell_type": "markdown",
   "metadata": {
    "deletable": false
   },
   "source": [
    "### Requirement FR8 - Detect and remove any outliers in the data used for your \"interesting\" pattern or trend"
   ]
  },
  {
   "cell_type": "code",
   "execution_count": null,
   "metadata": {
    "deletable": false
   },
   "outputs": [],
   "source": [
    "# replace with your code"
   ]
  },
  {
   "cell_type": "markdown",
   "metadata": {
    "deletable": false
   },
   "source": [
    "### Requirement FR9 - Define a hypothesis to test your “interesting” pattern or trend"
   ]
  },
  {
   "cell_type": "code",
   "execution_count": null,
   "metadata": {
    "deletable": false
   },
   "outputs": [],
   "source": [
    "# replace with your code"
   ]
  },
  {
   "cell_type": "markdown",
   "metadata": {
    "deletable": false
   },
   "source": [
    "### Requirement FR10 - Test your hypothesis with statistical significance level of 0.05"
   ]
  },
  {
   "cell_type": "code",
   "execution_count": null,
   "metadata": {
    "deletable": false
   },
   "outputs": [],
   "source": [
    "# replace with your code"
   ]
  }
 ],
 "metadata": {
  "kernelspec": {
   "display_name": "Python 3 (ipykernel)",
   "language": "python",
   "name": "python3"
  },
  "language_info": {
   "codemirror_mode": {
    "name": "ipython",
    "version": 3
   },
   "file_extension": ".py",
   "mimetype": "text/x-python",
   "name": "python",
   "nbconvert_exporter": "python",
   "pygments_lexer": "ipython3",
   "version": "3.11.5"
  }
 },
 "nbformat": 4,
 "nbformat_minor": 4
}
