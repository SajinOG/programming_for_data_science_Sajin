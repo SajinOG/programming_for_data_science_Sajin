{
 "cells": [
  {
   "cell_type": "markdown",
   "metadata": {
    "deletable": false
   },
   "source": [
    "# UFCFVQ-15-M Programming for Data Science (Autumn 2023)\n"
   ]
  },
  {
   "cell_type": "markdown",
   "metadata": {},
   "source": [
    "## Student Id:"
   ]
  },
  {
   "cell_type": "markdown",
   "metadata": {
    "deletable": false
   },
   "source": [
    "# Programming Task 1"
   ]
  },
  {
   "cell_type": "markdown",
   "metadata": {
    "deletable": false
   },
   "source": [
    "### Requirement FR1 - Develop a function to read a single column from a CSV file"
   ]
  },
  {
   "cell_type": "code",
   "execution_count": 3,
   "metadata": {
    "deletable": false
   },
   "outputs": [],
   "source": [
    "import csv"
   ]
  },
  {
   "cell_type": "code",
   "execution_count": 4,
   "metadata": {},
   "outputs": [
    {
     "name": "stdout",
     "output_type": "stream",
     "text": [
      "Column name: cancer\n"
     ]
    },
    {
     "data": {
      "text/plain": [
       "('cancer',\n",
       " ['70',\n",
       "  '70',\n",
       "  '68',\n",
       "  '53',\n",
       "  '75',\n",
       "  '69',\n",
       "  '70',\n",
       "  '63',\n",
       "  '73',\n",
       "  '66',\n",
       "  '70',\n",
       "  '63',\n",
       "  '68',\n",
       "  '69',\n",
       "  '72',\n",
       "  '65',\n",
       "  '69',\n",
       "  '61',\n",
       "  '68',\n",
       "  '67',\n",
       "  '68',\n",
       "  '65',\n",
       "  '65',\n",
       "  '68',\n",
       "  '64',\n",
       "  '63',\n",
       "  '68',\n",
       "  '69',\n",
       "  '61',\n",
       "  '72',\n",
       "  '63',\n",
       "  '75',\n",
       "  '67',\n",
       "  '72',\n",
       "  '63',\n",
       "  '69',\n",
       "  '73',\n",
       "  '70',\n",
       "  '69',\n",
       "  '73',\n",
       "  '69',\n",
       "  '73',\n",
       "  '65',\n",
       "  '70',\n",
       "  '64',\n",
       "  '64',\n",
       "  '63',\n",
       "  '68',\n",
       "  '70',\n",
       "  '70',\n",
       "  '70',\n",
       "  '62',\n",
       "  '81',\n",
       "  '69',\n",
       "  '72',\n",
       "  '69',\n",
       "  '66',\n",
       "  '67',\n",
       "  '70',\n",
       "  '84',\n",
       "  '65',\n",
       "  '65',\n",
       "  '63',\n",
       "  '81',\n",
       "  '65',\n",
       "  '67',\n",
       "  '66',\n",
       "  '67',\n",
       "  '61',\n",
       "  '76',\n",
       "  '66',\n",
       "  '70',\n",
       "  '67',\n",
       "  '70',\n",
       "  '73',\n",
       "  '63',\n",
       "  '62',\n",
       "  '82',\n",
       "  '75',\n",
       "  '65',\n",
       "  '74',\n",
       "  '68',\n",
       "  '81',\n",
       "  '76',\n",
       "  '57',\n",
       "  '65',\n",
       "  '62',\n",
       "  '64',\n",
       "  '65',\n",
       "  '63',\n",
       "  '69',\n",
       "  '65',\n",
       "  '100',\n",
       "  '65',\n",
       "  '62',\n",
       "  '66',\n",
       "  '64',\n",
       "  '61',\n",
       "  '64',\n",
       "  '60',\n",
       "  '55',\n",
       "  '64',\n",
       "  '57',\n",
       "  '63',\n",
       "  '59',\n",
       "  '66',\n",
       "  '68',\n",
       "  '70',\n",
       "  '70',\n",
       "  '51',\n",
       "  '58',\n",
       "  '57',\n",
       "  '55',\n",
       "  '68',\n",
       "  '67',\n",
       "  '72',\n",
       "  '67',\n",
       "  '58',\n",
       "  '61',\n",
       "  '60',\n",
       "  '58',\n",
       "  '67',\n",
       "  '68',\n",
       "  '66',\n",
       "  '62',\n",
       "  '59',\n",
       "  '66',\n",
       "  '64',\n",
       "  '60',\n",
       "  '63',\n",
       "  '65',\n",
       "  '55',\n",
       "  '56',\n",
       "  '63',\n",
       "  '59',\n",
       "  '60',\n",
       "  '65',\n",
       "  '73',\n",
       "  '65',\n",
       "  '65',\n",
       "  '61',\n",
       "  '64',\n",
       "  '65',\n",
       "  '63',\n",
       "  '70',\n",
       "  '59',\n",
       "  '67',\n",
       "  '68',\n",
       "  '66',\n",
       "  '64',\n",
       "  '64',\n",
       "  '65',\n",
       "  '68',\n",
       "  '57',\n",
       "  '68',\n",
       "  '65',\n",
       "  '64',\n",
       "  '66',\n",
       "  '72',\n",
       "  '68',\n",
       "  '67',\n",
       "  '64',\n",
       "  '67',\n",
       "  '57',\n",
       "  '59',\n",
       "  '52',\n",
       "  '63',\n",
       "  '58',\n",
       "  '47',\n",
       "  '58',\n",
       "  '61',\n",
       "  '64',\n",
       "  '62',\n",
       "  '60',\n",
       "  '65',\n",
       "  '58',\n",
       "  '57',\n",
       "  '64',\n",
       "  '49',\n",
       "  '59',\n",
       "  '59',\n",
       "  '59',\n",
       "  '67',\n",
       "  '59',\n",
       "  '55',\n",
       "  '57',\n",
       "  '57',\n",
       "  '65',\n",
       "  '61',\n",
       "  '58',\n",
       "  '59',\n",
       "  '61',\n",
       "  '61',\n",
       "  '59',\n",
       "  '64',\n",
       "  '56',\n",
       "  '58',\n",
       "  '59',\n",
       "  '64',\n",
       "  '57',\n",
       "  '56',\n",
       "  '60',\n",
       "  '61',\n",
       "  '57',\n",
       "  '59',\n",
       "  '53',\n",
       "  '59',\n",
       "  '56',\n",
       "  '58',\n",
       "  '63'])"
      ]
     },
     "execution_count": 4,
     "metadata": {},
     "output_type": "execute_result"
    }
   ],
   "source": [
    "def read_single_csv_column(filename, column_name):\n",
    "    try:\n",
    "        with open(filename, 'r', encoding='utf-8-sig', newline='') as file:\n",
    "            reader = list(csv.reader(file))\n",
    "            [column for column in reader[0] if column == column_name]\n",
    "            next(iter(reader)) # Skip the header row\n",
    "            column_index = reader[0].index(column_name)\n",
    "            column = [row[column_index] for row in iter(reader) if row != reader[0]]\n",
    "\n",
    "            print(f'Column name: {column_name}')\n",
    "\n",
    "            return column_name, column\n",
    "    \n",
    "    except ValueError:S\n",
    "        print(\"ValueError Occurred: You have probably inputed a wrong column name\")\n",
    "    \n",
    "    except:\n",
    "        print (\"An unknown error occurred\")\n",
    "\n",
    "# Test the function\n",
    "read_single_csv_column('task1.csv', 'cancer')\n",
    "    "
   ]
  },
  {
   "cell_type": "markdown",
   "metadata": {
    "deletable": false
   },
   "source": [
    "### Requirement FR2 - Develop a function to read CSV data from a file into memory"
   ]
  },
  {
   "cell_type": "code",
   "execution_count": 5,
   "metadata": {
    "deletable": false
   },
   "outputs": [
    {
     "data": {
      "text/plain": [
       "{'cancer': ['70', '37', '83', '64', '56', '76', '66', '47', '80'],\n",
       " 'cardiovascular': ['70', '34', '53', '56', '53', '79', '56', '52', '78'],\n",
       " 'stroke': ['68', '24', '71', '69', '44', '77', '78', '61', '72'],\n",
       " 'depression': ['53', '38', '62', '46', '60', '47', '53', '41', '66'],\n",
       " 'rehab': ['75', '35', '61', '62', '75', '84', '69', '56', '78'],\n",
       " 'vaccine': ['69', '38', '66', '61', '57', '73', '70', '45', '74'],\n",
       " 'diarrhea': ['70', '37', '58', '62', '72', '76', '58', '58', '74'],\n",
       " 'obesity': ['63', '32', '71', '60', '47', '66', '70', '44', '74'],\n",
       " 'diabetes': ['73', '35', '73', '65', '72', '86', '79', '52', '79']}"
      ]
     },
     "execution_count": 5,
     "metadata": {},
     "output_type": "execute_result"
    }
   ],
   "source": [
    "def read_csv_data(filename):\n",
    "    output = {}\n",
    "    with open(filename, 'r', encoding='utf-8-sig', newline='') as file:\n",
    "       reader = list(csv.reader(file))\n",
    "       header = [column for column in reader[0]] # header row from csv file        \n",
    "       data = [row for row in reader[1:]]\n",
    "\n",
    "       for i in range(len(header)):\n",
    "         output[header[i]] = data[i]S\n",
    "       \n",
    "    return output\n",
    "\n",
    "read_csv_data('task1.csv')"
   ]
  },
  {
   "cell_type": "markdown",
   "metadata": {
    "deletable": false
   },
   "source": [
    "### Requirement FR3 - Develop a function to calculate the Kendall Tau Correlation Coefficient for two lists of data"
   ]
  },
  {
   "cell_type": "code",
   "execution_count": 6,
   "metadata": {
    "deletable": false
   },
   "outputs": [
    {
     "name": "stdout",
     "output_type": "stream",
     "text": [
      "-1.0\n"
     ]
    }
   ],
   "source": [
    "def calculate_kendall_tau(list1, list2):\n",
    "   # Check if the lists have the same length\n",
    "   if len(list1) != len(list2):\n",
    "       raise ValueError(\"Lists must have the same length\")\n",
    "\n",
    "   # Initialize counters for concordant and discordant pairs\n",
    "   concordant = 0\n",
    "   discordant = 0\n",
    "\n",
    "   # Iterate over each pair of corresponding elements in the lists\n",
    "   for i in range(len(list1)):\n",
    "       for j in range(i + 1, len(list1)):\n",
    "           # Compare the ranks of the two elements\n",
    "           if list1[i] > list1[j]:\n",
    "               if list2[i] > list2[j]:\n",
    "                  # Both ranks are higher for the first element, so the pair is concordant\n",
    "                  concordant += 1\n",
    "               else:\n",
    "                  # The rank is lower for the second element, so the pair is discordant\n",
    "                  discordant += 1\n",
    "           elif list1[i] < list1[j]:\n",
    "               if list2[i] < list2[j]:\n",
    "                  # Both ranks are lower for the first element, so the pair is concordant\n",
    "                  concordant += 1\n",
    "               else:\n",
    "                  # The rank is higher for the second element, so the pair is discordant\n",
    "                  discordant += 1\n",
    "\n",
    "   # Calculate Kendall's Tau\n",
    "   try:\n",
    "     tau = (concordant - discordant) / (concordant + discordant)\n",
    "   except ZeroDivisionError:\n",
    "     tau = 0\n",
    "\n",
    "   return tau\n",
    "\n",
    "\n",
    "list1 = [1, 2, 3, 4, 5]\n",
    "list2 = [5, 4, 3, 2, 1]\n",
    "print(calculate_kendall_tau(list1, list2))"
   ]
  },
  {
   "cell_type": "markdown",
   "metadata": {
    "deletable": false
   },
   "source": [
    "### Requirement FR4 - Develop a function to generate a set of Kendall Tau Correlation Coefficients for a data structure like the one generated in FR2"
   ]
  },
  {
   "cell_type": "code",
   "execution_count": null,
   "metadata": {
    "deletable": false
   },
   "outputs": [],
   "source": [
    "def print_custom_table(output):\n",
    "   # Extract the categories from the output\n",
    "    categories = sorted(set(sum((pair[:2] for pair in output), ())))\n",
    "\n",
    "    # Initialize a 2D array to store the Kendall Tau Correlation Coefficients\n",
    "    coefficients = [[0]*len(categories) for _ in categories]\n",
    "\n",
    "    # Fill the 2D array with the Kendall Tau Correlation Coefficients\n",
    "    for trio in output:\n",
    "        i, j = categories.index(trio[0]), categories.index(trio[1])\n",
    "        coefficients[i][j] = trio[2]\n",
    "        coefficients[j][i] = trio[2] # Since it's symmetric\n",
    "    \n",
    "    # Generate the separator row\n",
    "    separator = \"*\" + \"*\".join(\"*\"*12 for _ in categories)\n",
    "    print(separator)\n",
    "\n",
    "    # Generate the header row\n",
    "    header = \"*\" + \"*\".join(f\"{cat:^12}\" for cat in categories) + \"*\"\n",
    "    print(header)\n",
    "\n",
    "    # Generate the separator row\n",
    "    print(separator)\n",
    "\n",
    "    # Generate the data rows\n",
    "    for i, category in enumerate(categories):\n",
    "        row = f\"*{category:^12}\" + \"\".join(f\"*{coef:^12.4f}\" for coef in coefficients[i]) + \"*\"\n",
    "        print(row)\n",
    "\n",
    "    # Print the separator row again for clarity\n",
    "    print(separator)\n",
    "\n",
    "data = [('cancer', 'cardiovascular', 0.5555555555555556), ('cancer', 'stroke', 0.5), ('cancer', 'depression', 0.5555555555555556), ('cancer', 'rehab', 0.4444444444444444), ('cancer', 'vaccine', 0.7222222222222222), ('cancer', 'diarrhea', 0.2777777777777778), ('cancer', 'obesity', 0.8333333333333334), ('cancer', 'diabetes', 0.5555555555555556), ('cardiovascular', 'stroke', 0.5882352941176471), ('cardiovascular', 'depression', 0.29411764705882354), ('cardiovascular', 'rehab', 0.8235294117647058), ('cardiovascular', 'vaccine', 0.8235294117647058), ('cardiovascular', 'diarrhea', 0.6470588235294118), ('cardiovascular', 'obesity', 0.5882352941176471), ('cardiovascular', 'diabetes', 0.7058823529411765), ('stroke', 'depression', 0.3333333333333333), ('stroke', 'rehab', 0.3888888888888889), ('stroke', 'vaccine', 0.6666666666666666), ('stroke', 'diarrhea', 0.16666666666666666), ('stroke', 'obesity', 0.6666666666666666), ('stroke', 'diabetes', 0.6666666666666666), ('depression', 'rehab', 0.42857142857142855), ('depression', 'vaccine', 0.4857142857142857), ('depression', 'diarrhea', 0.3142857142857143), ('depression', 'obesity', 0.7142857142857143), ('depression', 'diabetes', 0.42857142857142855), ('rehab', 'vaccine', 0.6571428571428571), ('rehab', 'diarrhea', 0.7714285714285715), ('rehab', 'obesity', 0.42857142857142855), ('rehab', 'diabetes', 0.6571428571428571), ('vaccine', 'diarrhea', 0.3888888888888889), ('vaccine', 'obesity', 0.7777777777777778), ('vaccine', 'diabetes', 0.7777777777777778), ('diarrhea', 'obesity', 0.3333333333333333), ('diarrhea', 'diabetes', 0.5151515151515151), ('obesity', 'diabetes', 0.6111111111111112)]\n",
    "print_custom_table(data)"
   ]
  },
  {
   "cell_type": "markdown",
   "metadata": {
    "deletable": false
   },
   "source": [
    "### Requirement FR5 - Develop a function to print a custom table for selected data from a data structure like the one generated in FR4"
   ]
  },
  {
   "cell_type": "code",
   "execution_count": null,
   "metadata": {
    "deletable": false
   },
   "outputs": [],
   "source": [
    "# replace with your code"
   ]
  }
 ],
 "metadata": {
  "kernelspec": {
   "display_name": "Python 3 (ipykernel)",
   "language": "python",
   "name": "python3"
  },
  "language_info": {
   "codemirror_mode": {
    "name": "ipython",
    "version": 3
   },
   "file_extension": ".py",
   "mimetype": "text/x-python",
   "name": "python",
   "nbconvert_exporter": "python",
   "pygments_lexer": "ipython3",
   "version": "3.11.5"
  }
 },
 "nbformat": 4,
 "nbformat_minor": 4
}
